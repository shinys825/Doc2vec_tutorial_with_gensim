{
 "cells": [
  {
   "cell_type": "markdown",
   "metadata": {
    "toc": true
   },
   "source": [
    "<h1>Table of Contents<span class=\"tocSkip\"></span></h1>\n",
    "<div class=\"toc\" style=\"margin-top: 1em;\"><ul class=\"toc-item\"><li><span><a href=\"#라이브러리-로딩\" data-toc-modified-id=\"라이브러리-로딩-1\"><span class=\"toc-item-num\">1&nbsp;&nbsp;</span>라이브러리 로딩</a></span></li><li><span><a href=\"#전처리\" data-toc-modified-id=\"전처리-2\"><span class=\"toc-item-num\">2&nbsp;&nbsp;</span>전처리</a></span><ul class=\"toc-item\"><li><span><a href=\"#전처리를-위한-정규표현식-패턴-정의\" data-toc-modified-id=\"전처리를-위한-정규표현식-패턴-정의-2.1\"><span class=\"toc-item-num\">2.1&nbsp;&nbsp;</span>전처리를 위한 정규표현식 패턴 정의</a></span></li><li><span><a href=\"#학습-데이터셋-로드\" data-toc-modified-id=\"학습-데이터셋-로드-2.2\"><span class=\"toc-item-num\">2.2&nbsp;&nbsp;</span>학습 데이터셋 로드</a></span></li><li><span><a href=\"#Pos-tagging\" data-toc-modified-id=\"Pos-tagging-2.3\"><span class=\"toc-item-num\">2.3&nbsp;&nbsp;</span>Pos tagging</a></span></li><li><span><a href=\"#Doc2vec-입력객체-생성\" data-toc-modified-id=\"Doc2vec-입력객체-생성-2.4\"><span class=\"toc-item-num\">2.4&nbsp;&nbsp;</span>Doc2vec 입력객체 생성</a></span></li></ul></li><li><span><a href=\"#모델-hyperparameter-설정-및-학습\" data-toc-modified-id=\"모델-hyperparameter-설정-및-학습-3\"><span class=\"toc-item-num\">3&nbsp;&nbsp;</span>모델 hyperparameter 설정 및 학습</a></span></li><li><span><a href=\"#학습결과-확인\" data-toc-modified-id=\"학습결과-확인-4\"><span class=\"toc-item-num\">4&nbsp;&nbsp;</span>학습결과 확인</a></span><ul class=\"toc-item\"><li><span><a href=\"#단어-유사도-확인\" data-toc-modified-id=\"단어-유사도-확인-4.1\"><span class=\"toc-item-num\">4.1&nbsp;&nbsp;</span>단어 유사도 확인</a></span></li><li><span><a href=\"#테스트-데이터셋-로드-및-pos-tagging\" data-toc-modified-id=\"테스트-데이터셋-로드-및-pos-tagging-4.2\"><span class=\"toc-item-num\">4.2&nbsp;&nbsp;</span>테스트 데이터셋 로드 및 pos tagging</a></span></li><li><span><a href=\"#테스트-결과-확인\" data-toc-modified-id=\"테스트-결과-확인-4.3\"><span class=\"toc-item-num\">4.3&nbsp;&nbsp;</span>테스트 결과 확인</a></span></li></ul></li><li><span><a href=\"#발생할-수-있는-문제점-및-원인\" data-toc-modified-id=\"발생할-수-있는-문제점-및-원인-5\"><span class=\"toc-item-num\">5&nbsp;&nbsp;</span>발생할 수 있는 문제점 및 원인</a></span><ul class=\"toc-item\"><li><span><a href=\"#새로운-유형의-단어로-인해-발생하는-오류\" data-toc-modified-id=\"새로운-유형의-단어로-인해-발생하는-오류-5.1\"><span class=\"toc-item-num\">5.1&nbsp;&nbsp;</span>새로운 유형의 단어로 인해 발생하는 오류</a></span></li><li><span><a href=\"#Inference-시행-때마다-일정하지-않은-유사도-결과값-(Non-deterministic)\" data-toc-modified-id=\"Inference-시행-때마다-일정하지-않은-유사도-결과값-(Non-deterministic)-5.2\"><span class=\"toc-item-num\">5.2&nbsp;&nbsp;</span>Inference 시행 때마다 일정하지 않은 유사도 결과값 (Non-deterministic)</a></span></li></ul></li></ul></div>"
   ]
  },
  {
   "cell_type": "markdown",
   "metadata": {},
   "source": [
    "# 라이브러리 로딩"
   ]
  },
  {
   "cell_type": "code",
   "execution_count": 1,
   "metadata": {
    "ExecuteTime": {
     "end_time": "2018-01-20T15:00:24.765544Z",
     "start_time": "2018-01-20T15:00:24.287975Z"
    }
   },
   "outputs": [],
   "source": [
    "import MeCab\n",
    "import re\n",
    "import pandas as pd\n",
    "from gensim.models import doc2vec"
   ]
  },
  {
   "cell_type": "markdown",
   "metadata": {},
   "source": [
    "# 전처리"
   ]
  },
  {
   "cell_type": "markdown",
   "metadata": {},
   "source": [
    "## 전처리를 위한 정규표현식 패턴 정의"
   ]
  },
  {
   "cell_type": "code",
   "execution_count": 2,
   "metadata": {
    "ExecuteTime": {
     "end_time": "2018-01-20T15:00:24.776555Z",
     "start_time": "2018-01-20T15:00:24.767470Z"
    }
   },
   "outputs": [],
   "source": [
    "mecab = MeCab.Tagger('-d ./Mecab/')  # mecab 사전 정의\n",
    "pos_ptn = re.compile(r'.+\\t[NVM][A-Z]{1,2}')  # pos tagging 패턴 \n",
    "remove_ptn = re.compile(r'[^a-zㄱ-힣]')  # 불용어 패턴"
   ]
  },
  {
   "cell_type": "markdown",
   "metadata": {},
   "source": [
    "## 학습 데이터셋 로드"
   ]
  },
  {
   "cell_type": "code",
   "execution_count": 3,
   "metadata": {
    "ExecuteTime": {
     "end_time": "2018-01-20T15:00:25.021175Z",
     "start_time": "2018-01-20T15:00:24.778297Z"
    },
    "scrolled": true
   },
   "outputs": [
    {
     "data": {
      "text/html": [
       "<div>\n",
       "<style scoped>\n",
       "    .dataframe tbody tr th:only-of-type {\n",
       "        vertical-align: middle;\n",
       "    }\n",
       "\n",
       "    .dataframe tbody tr th {\n",
       "        vertical-align: top;\n",
       "    }\n",
       "\n",
       "    .dataframe thead th {\n",
       "        text-align: right;\n",
       "    }\n",
       "</style>\n",
       "<table border=\"1\" class=\"dataframe\">\n",
       "  <thead>\n",
       "    <tr style=\"text-align: right;\">\n",
       "      <th></th>\n",
       "      <th>id</th>\n",
       "      <th>document</th>\n",
       "      <th>label</th>\n",
       "    </tr>\n",
       "  </thead>\n",
       "  <tbody>\n",
       "    <tr>\n",
       "      <th>149990</th>\n",
       "      <td>6222902</td>\n",
       "      <td>인간이 문제지.. 소는 뭔죄인가..</td>\n",
       "      <td>0</td>\n",
       "    </tr>\n",
       "    <tr>\n",
       "      <th>149991</th>\n",
       "      <td>8549745</td>\n",
       "      <td>평점이 너무 낮아서...</td>\n",
       "      <td>1</td>\n",
       "    </tr>\n",
       "    <tr>\n",
       "      <th>149992</th>\n",
       "      <td>9311800</td>\n",
       "      <td>이게 뭐요? 한국인은 거들먹거리고 필리핀 혼혈은 착하다?</td>\n",
       "      <td>0</td>\n",
       "    </tr>\n",
       "    <tr>\n",
       "      <th>149993</th>\n",
       "      <td>2376369</td>\n",
       "      <td>청춘 영화의 최고봉.방황과 우울했던 날들의 자화상</td>\n",
       "      <td>1</td>\n",
       "    </tr>\n",
       "    <tr>\n",
       "      <th>149994</th>\n",
       "      <td>9619869</td>\n",
       "      <td>한국 영화 최초로 수간하는 내용이 담긴 영화</td>\n",
       "      <td>0</td>\n",
       "    </tr>\n",
       "  </tbody>\n",
       "</table>\n",
       "</div>"
      ],
      "text/plain": [
       "             id                         document  label\n",
       "149990  6222902              인간이 문제지.. 소는 뭔죄인가..      0\n",
       "149991  8549745                    평점이 너무 낮아서...      1\n",
       "149992  9311800  이게 뭐요? 한국인은 거들먹거리고 필리핀 혼혈은 착하다?      0\n",
       "149993  2376369      청춘 영화의 최고봉.방황과 우울했던 날들의 자화상      1\n",
       "149994  9619869         한국 영화 최초로 수간하는 내용이 담긴 영화      0"
      ]
     },
     "execution_count": 3,
     "metadata": {},
     "output_type": "execute_result"
    }
   ],
   "source": [
    "train_docs = pd.read_csv('./ratings_train.txt', sep='\\t')\n",
    "train_docs = train_docs.dropna()\n",
    "train_docs.index = range(len(train_docs))\n",
    "train_docs.tail()"
   ]
  },
  {
   "cell_type": "code",
   "execution_count": 4,
   "metadata": {
    "ExecuteTime": {
     "end_time": "2018-01-20T15:00:25.027943Z",
     "start_time": "2018-01-20T15:00:25.022330Z"
    }
   },
   "outputs": [
    {
     "data": {
      "text/plain": [
       "label\n",
       "0    75170\n",
       "1    74825\n",
       "dtype: int64"
      ]
     },
     "execution_count": 4,
     "metadata": {},
     "output_type": "execute_result"
    }
   ],
   "source": [
    "# 학습자료의 긍정, 부정문서 수 확인\n",
    "train_docs.groupby(['label']).size()"
   ]
  },
  {
   "cell_type": "markdown",
   "metadata": {},
   "source": [
    "## Pos tagging"
   ]
  },
  {
   "cell_type": "code",
   "execution_count": 5,
   "metadata": {
    "ExecuteTime": {
     "end_time": "2018-01-20T15:00:25.032589Z",
     "start_time": "2018-01-20T15:00:25.029058Z"
    }
   },
   "outputs": [],
   "source": [
    "def pos_tagging(doc):\n",
    "    # doc = string(문서 1개 내용)\n",
    "    doc = remove_ptn.sub(' ', doc)\n",
    "    parse_doc = mecab.parse(doc)\n",
    "    pos_doc = pos_ptn.finditer(parse_doc)\n",
    "    return [x[0].replace('\\t', '\\\\') for x in pos_doc]"
   ]
  },
  {
   "cell_type": "code",
   "execution_count": 6,
   "metadata": {
    "ExecuteTime": {
     "end_time": "2018-01-20T15:00:33.576874Z",
     "start_time": "2018-01-20T15:00:25.033719Z"
    },
    "scrolled": true
   },
   "outputs": [
    {
     "data": {
      "text/html": [
       "<div>\n",
       "<style scoped>\n",
       "    .dataframe tbody tr th:only-of-type {\n",
       "        vertical-align: middle;\n",
       "    }\n",
       "\n",
       "    .dataframe tbody tr th {\n",
       "        vertical-align: top;\n",
       "    }\n",
       "\n",
       "    .dataframe thead th {\n",
       "        text-align: right;\n",
       "    }\n",
       "</style>\n",
       "<table border=\"1\" class=\"dataframe\">\n",
       "  <thead>\n",
       "    <tr style=\"text-align: right;\">\n",
       "      <th></th>\n",
       "      <th>id</th>\n",
       "      <th>document</th>\n",
       "      <th>label</th>\n",
       "      <th>prep_docs</th>\n",
       "    </tr>\n",
       "  </thead>\n",
       "  <tbody>\n",
       "    <tr>\n",
       "      <th>149990</th>\n",
       "      <td>6222902</td>\n",
       "      <td>인간이 문제지.. 소는 뭔죄인가..</td>\n",
       "      <td>0</td>\n",
       "      <td>[인간\\NNG, 문제지\\NNG, 소\\NNG, 뭔\\MM, 죄\\NNG, 인가\\VCP]</td>\n",
       "    </tr>\n",
       "    <tr>\n",
       "      <th>149991</th>\n",
       "      <td>8549745</td>\n",
       "      <td>평점이 너무 낮아서...</td>\n",
       "      <td>1</td>\n",
       "      <td>[평점\\NNG, 너무\\MAG, 낮\\VA]</td>\n",
       "    </tr>\n",
       "    <tr>\n",
       "      <th>149992</th>\n",
       "      <td>9311800</td>\n",
       "      <td>이게 뭐요? 한국인은 거들먹거리고 필리핀 혼혈은 착하다?</td>\n",
       "      <td>0</td>\n",
       "      <td>[이게\\NP, 요\\MM, 한국인\\NNG, 거들먹거리\\VV, 필리핀\\NNP, 혼혈\\N...</td>\n",
       "    </tr>\n",
       "    <tr>\n",
       "      <th>149993</th>\n",
       "      <td>2376369</td>\n",
       "      <td>청춘 영화의 최고봉.방황과 우울했던 날들의 자화상</td>\n",
       "      <td>1</td>\n",
       "      <td>[청춘\\NNG, 영화\\NNG, 최고봉\\NNG, 방황\\NNG, 우울\\NNG, 날\\NN...</td>\n",
       "    </tr>\n",
       "    <tr>\n",
       "      <th>149994</th>\n",
       "      <td>9619869</td>\n",
       "      <td>한국 영화 최초로 수간하는 내용이 담긴 영화</td>\n",
       "      <td>0</td>\n",
       "      <td>[한국\\NNP, 영화\\NNG, 최초\\NNG, 수간\\NNG, 내용\\NNG, 담긴\\VV...</td>\n",
       "    </tr>\n",
       "  </tbody>\n",
       "</table>\n",
       "</div>"
      ],
      "text/plain": [
       "             id                         document  label  \\\n",
       "149990  6222902              인간이 문제지.. 소는 뭔죄인가..      0   \n",
       "149991  8549745                    평점이 너무 낮아서...      1   \n",
       "149992  9311800  이게 뭐요? 한국인은 거들먹거리고 필리핀 혼혈은 착하다?      0   \n",
       "149993  2376369      청춘 영화의 최고봉.방황과 우울했던 날들의 자화상      1   \n",
       "149994  9619869         한국 영화 최초로 수간하는 내용이 담긴 영화      0   \n",
       "\n",
       "                                                prep_docs  \n",
       "149990      [인간\\NNG, 문제지\\NNG, 소\\NNG, 뭔\\MM, 죄\\NNG, 인가\\VCP]  \n",
       "149991                             [평점\\NNG, 너무\\MAG, 낮\\VA]  \n",
       "149992  [이게\\NP, 요\\MM, 한국인\\NNG, 거들먹거리\\VV, 필리핀\\NNP, 혼혈\\N...  \n",
       "149993  [청춘\\NNG, 영화\\NNG, 최고봉\\NNG, 방황\\NNG, 우울\\NNG, 날\\NN...  \n",
       "149994  [한국\\NNP, 영화\\NNG, 최초\\NNG, 수간\\NNG, 내용\\NNG, 담긴\\VV...  "
      ]
     },
     "execution_count": 6,
     "metadata": {},
     "output_type": "execute_result"
    }
   ],
   "source": [
    "pos_docs = [pos_tagging(doc) for doc in train_docs['document']]\n",
    "train_docs['prep_docs'] = pos_docs\n",
    "train_docs = train_docs.dropna()\n",
    "train_docs.index = range(len(train_docs))\n",
    "train_docs.tail()"
   ]
  },
  {
   "cell_type": "markdown",
   "metadata": {},
   "source": [
    "## Doc2vec 입력객체 생성\n",
    "- do2vec.TaggedDocument(단어 리스트, 라벨 리스트)"
   ]
  },
  {
   "cell_type": "code",
   "execution_count": 7,
   "metadata": {
    "ExecuteTime": {
     "end_time": "2018-01-20T15:00:33.586617Z",
     "start_time": "2018-01-20T15:00:33.578623Z"
    },
    "hide_input": false
   },
   "outputs": [],
   "source": [
    "def doc2vec_labeler(docs):\n",
    "    # docs = 학습 데이터셋 pandas DataFrame\n",
    "    labeled_docs = list()\n",
    "    for i in range(len(docs)):\n",
    "        doc = docs.iloc[i].tolist()\n",
    "        words = doc[3]\n",
    "        labels = [str(doc[0]), str(doc[2])]\n",
    "        # Doc2vec tagged object 생성\n",
    "        sentence = doc2vec.TaggedDocument(words=words, tags=labels)\n",
    "        labeled_docs.append(sentence)\n",
    "    return labeled_docs"
   ]
  },
  {
   "cell_type": "code",
   "execution_count": 8,
   "metadata": {
    "ExecuteTime": {
     "end_time": "2018-01-20T15:00:51.104186Z",
     "start_time": "2018-01-20T15:00:33.587725Z"
    }
   },
   "outputs": [],
   "source": [
    "train_labeled_docs = doc2vec_labeler(train_docs)"
   ]
  },
  {
   "cell_type": "code",
   "execution_count": 9,
   "metadata": {
    "ExecuteTime": {
     "end_time": "2018-01-20T15:00:51.109258Z",
     "start_time": "2018-01-20T15:00:51.106018Z"
    }
   },
   "outputs": [
    {
     "data": {
      "text/plain": [
       "TaggedDocument(words=['더\\\\MAG', '빙\\\\MAG', '진짜\\\\MAG', '짜증\\\\NNG', '나\\\\NP', '네요\\\\VCP', '목소리\\\\NNG'], tags=['9976970', '0'])"
      ]
     },
     "execution_count": 9,
     "metadata": {},
     "output_type": "execute_result"
    }
   ],
   "source": [
    "train_labeled_docs[0]"
   ]
  },
  {
   "cell_type": "markdown",
   "metadata": {},
   "source": [
    "# 모델 hyperparameter 설정 및 학습\n",
    "- dm=0: DBOW 모델 사용\n",
    "- dm_tag_count=2: 문서 당 라벨의 수(예제에는 문서번호, 긍부정 여부 2개)"
   ]
  },
  {
   "cell_type": "code",
   "execution_count": 28,
   "metadata": {
    "ExecuteTime": {
     "end_time": "2018-01-20T15:08:22.334243Z",
     "start_time": "2018-01-20T15:08:19.623302Z"
    }
   },
   "outputs": [],
   "source": [
    "model = doc2vec.Doc2Vec(window=5, size=100, alpha=0.1, min_alpha=0.01, dm=0, \n",
    "                        min_count=3, dm_tag_count=2, workers=8)\n",
    "model.build_vocab(train_labeled_docs)"
   ]
  },
  {
   "cell_type": "code",
   "execution_count": 11,
   "metadata": {
    "ExecuteTime": {
     "end_time": "2018-01-20T15:00:54.086059Z",
     "start_time": "2018-01-20T15:00:54.082711Z"
    }
   },
   "outputs": [
    {
     "data": {
      "text/plain": [
       "21447"
      ]
     },
     "execution_count": 11,
     "metadata": {},
     "output_type": "execute_result"
    }
   ],
   "source": [
    "# 말뭉치의 단어 수\n",
    "len(model.wv.vocab)"
   ]
  },
  {
   "cell_type": "code",
   "execution_count": 29,
   "metadata": {
    "ExecuteTime": {
     "end_time": "2018-01-20T15:08:46.091469Z",
     "start_time": "2018-01-20T15:08:23.825697Z"
    }
   },
   "outputs": [
    {
     "data": {
      "text/plain": [
       "7813611"
      ]
     },
     "execution_count": 29,
     "metadata": {},
     "output_type": "execute_result"
    }
   ],
   "source": [
    "model.train(train_labeled_docs, total_examples=model.corpus_count, epochs=model.iter)"
   ]
  },
  {
   "cell_type": "markdown",
   "metadata": {},
   "source": [
    "# 학습결과 확인"
   ]
  },
  {
   "cell_type": "markdown",
   "metadata": {},
   "source": [
    "## 단어 유사도 확인\n",
    "- DBOW는 word order를 무시\n",
    "- 문서 벡터는 상대적으로 품질이 좋은 반면, 단어 벡터는 직관과 어긋나는 결과를 주로 보임."
   ]
  },
  {
   "cell_type": "code",
   "execution_count": 33,
   "metadata": {
    "ExecuteTime": {
     "end_time": "2018-01-20T15:11:38.269799Z",
     "start_time": "2018-01-20T15:11:38.260989Z"
    }
   },
   "outputs": [
    {
     "data": {
      "text/plain": [
       "[('렉\\\\NNP', 0.39506301283836365),\n",
       " ('만화\\\\NNG', 0.3715558648109436),\n",
       " ('로랑\\\\NNG', 0.36376771330833435),\n",
       " ('키드\\\\NNP', 0.3518717586994171),\n",
       " ('팬\\\\NNG', 0.3492623269557953),\n",
       " ('모텔\\\\NNG', 0.34679582715034485),\n",
       " ('사원\\\\NNG', 0.3385835886001587),\n",
       " ('고군분투\\\\NNG', 0.3375825583934784),\n",
       " ('그분\\\\NP', 0.3361288607120514),\n",
       " ('성질나\\\\VV', 0.32648980617523193)]"
      ]
     },
     "execution_count": 33,
     "metadata": {},
     "output_type": "execute_result"
    }
   ],
   "source": [
    "model.wv.most_similar('재미\\\\NNG')"
   ]
  },
  {
   "cell_type": "markdown",
   "metadata": {},
   "source": [
    "## 테스트 데이터셋 로드 및 pos tagging"
   ]
  },
  {
   "cell_type": "code",
   "execution_count": 14,
   "metadata": {
    "ExecuteTime": {
     "end_time": "2018-01-20T15:01:20.614510Z",
     "start_time": "2018-01-20T15:01:17.585574Z"
    },
    "scrolled": false
   },
   "outputs": [
    {
     "data": {
      "text/html": [
       "<div>\n",
       "<style scoped>\n",
       "    .dataframe tbody tr th:only-of-type {\n",
       "        vertical-align: middle;\n",
       "    }\n",
       "\n",
       "    .dataframe tbody tr th {\n",
       "        vertical-align: top;\n",
       "    }\n",
       "\n",
       "    .dataframe thead th {\n",
       "        text-align: right;\n",
       "    }\n",
       "</style>\n",
       "<table border=\"1\" class=\"dataframe\">\n",
       "  <thead>\n",
       "    <tr style=\"text-align: right;\">\n",
       "      <th></th>\n",
       "      <th>id</th>\n",
       "      <th>document</th>\n",
       "      <th>label</th>\n",
       "      <th>prep_docs</th>\n",
       "    </tr>\n",
       "  </thead>\n",
       "  <tbody>\n",
       "    <tr>\n",
       "      <th>49992</th>\n",
       "      <td>4608761</td>\n",
       "      <td>오랜만에 평점 로긴했네ㅋㅋ 킹왕짱 쌈뽕한 영화를 만났습니다 강렬하게 육쾌함</td>\n",
       "      <td>1</td>\n",
       "      <td>[오랜만\\NNG, 평점\\NNG, 했\\VX, 킹왕짱\\NNG, 쌈\\NNG, 뽕\\NNG,...</td>\n",
       "    </tr>\n",
       "    <tr>\n",
       "      <th>49993</th>\n",
       "      <td>5308387</td>\n",
       "      <td>의지 박약들이나 하는거다 탈영은 일단 주인공 김대희 닮았고 이등병 찐따 OOOO</td>\n",
       "      <td>0</td>\n",
       "      <td>[의지\\NNG, 박약\\NNG, 하\\VV, 거\\NNB, 다\\MAG, 탈영\\NNG, 일...</td>\n",
       "    </tr>\n",
       "    <tr>\n",
       "      <th>49994</th>\n",
       "      <td>9072549</td>\n",
       "      <td>그림도 좋고 완성도도 높았지만... 보는 내내 불안하게 만든다</td>\n",
       "      <td>0</td>\n",
       "      <td>[그림\\NNG, 좋\\VA, 완성도\\NNG, 높\\VA, 보\\VX, 내내\\MAG, 불안...</td>\n",
       "    </tr>\n",
       "    <tr>\n",
       "      <th>49995</th>\n",
       "      <td>5802125</td>\n",
       "      <td>절대 봐서는 안 될 영화.. 재미도 없고 기분만 잡치고.. 한 세트장에서 다 해먹네</td>\n",
       "      <td>0</td>\n",
       "      <td>[절대\\MAG, 봐서\\VV, 안\\MAG, 될\\VV, 영화\\NNG, 재미\\NNG, 없...</td>\n",
       "    </tr>\n",
       "    <tr>\n",
       "      <th>49996</th>\n",
       "      <td>6070594</td>\n",
       "      <td>마무리는 또 왜이래</td>\n",
       "      <td>0</td>\n",
       "      <td>[마무리\\NNG, 또\\MAG, 왜\\MAG, 이래\\VA]</td>\n",
       "    </tr>\n",
       "  </tbody>\n",
       "</table>\n",
       "</div>"
      ],
      "text/plain": [
       "            id                                        document  label  \\\n",
       "49992  4608761       오랜만에 평점 로긴했네ㅋㅋ 킹왕짱 쌈뽕한 영화를 만났습니다 강렬하게 육쾌함      1   \n",
       "49993  5308387    의지 박약들이나 하는거다 탈영은 일단 주인공 김대희 닮았고 이등병 찐따 OOOO      0   \n",
       "49994  9072549              그림도 좋고 완성도도 높았지만... 보는 내내 불안하게 만든다      0   \n",
       "49995  5802125  절대 봐서는 안 될 영화.. 재미도 없고 기분만 잡치고.. 한 세트장에서 다 해먹네      0   \n",
       "49996  6070594                                      마무리는 또 왜이래      0   \n",
       "\n",
       "                                               prep_docs  \n",
       "49992  [오랜만\\NNG, 평점\\NNG, 했\\VX, 킹왕짱\\NNG, 쌈\\NNG, 뽕\\NNG,...  \n",
       "49993  [의지\\NNG, 박약\\NNG, 하\\VV, 거\\NNB, 다\\MAG, 탈영\\NNG, 일...  \n",
       "49994  [그림\\NNG, 좋\\VA, 완성도\\NNG, 높\\VA, 보\\VX, 내내\\MAG, 불안...  \n",
       "49995  [절대\\MAG, 봐서\\VV, 안\\MAG, 될\\VV, 영화\\NNG, 재미\\NNG, 없...  \n",
       "49996                     [마무리\\NNG, 또\\MAG, 왜\\MAG, 이래\\VA]  "
      ]
     },
     "execution_count": 14,
     "metadata": {},
     "output_type": "execute_result"
    }
   ],
   "source": [
    "test_docs = pd.read_csv('./ratings_test.txt', sep='\\t')\n",
    "test_docs = test_docs.dropna()\n",
    "\n",
    "pos_docs = [pos_tagging(doc) for doc in test_docs['document']]\n",
    "test_docs['prep_docs'] = pos_docs\n",
    "test_docs = test_docs.dropna()\n",
    "test_docs.index = range(len(test_docs))\n",
    "test_docs.tail()"
   ]
  },
  {
   "cell_type": "markdown",
   "metadata": {},
   "source": [
    "## 테스트 결과 확인"
   ]
  },
  {
   "cell_type": "code",
   "execution_count": 30,
   "metadata": {
    "ExecuteTime": {
     "end_time": "2018-01-20T15:08:47.601846Z",
     "start_time": "2018-01-20T15:08:47.580400Z"
    }
   },
   "outputs": [],
   "source": [
    "def get_pred_result(doc, train_docs, topn=5, verbose=False):\n",
    "    '''\n",
    "    doc = 테스트 문서 (pandas DataFrame 1-row)\n",
    "    train_docs = 학습 데이터셋 pandas.DataFrame (유사문서 검색을 위함.)\n",
    "    topn = 학습 데이터셋에서 찾을 유사 문서의 수 (integer)\n",
    "    verbose = 유사문서 및 유사도 점수 DataFrame 반환여부\n",
    "    '''\n",
    "    doc_content = doc[3]\n",
    "    doc_label = doc[2]\n",
    "    infer_vector = model.infer_vector(doc_content)\n",
    "    score_threshold = int(topn/2)\n",
    "    \n",
    "    similar_res = [x for x in model.docvecs.most_similar([infer_vector], topn=topn)]\n",
    "    similar_ids = [x[0] for x in similar_res]\n",
    "    similar_scores = [x[1] for x in similar_res]\n",
    "    similar_docs = train_docs[train_docs['id'].isin(similar_ids)][['document', 'label']]\n",
    "    similar_docs['scores'] = similar_scores\n",
    "    \n",
    "    result = sum(similar_docs['label'].tolist())\n",
    "    final_result = 0 if result <= score_threshold else 1\n",
    "    \n",
    "    if verbose:\n",
    "        print('Input content :', doc[1], '\\nLabel :', doc_label, '\\nPrediction :', final_result)\n",
    "        similar_docs.columns = ['most similar documents', 'label', 'similarity score']\n",
    "        return similar_docs, final_result\n",
    "    return final_result"
   ]
  },
  {
   "cell_type": "code",
   "execution_count": 31,
   "metadata": {
    "ExecuteTime": {
     "end_time": "2018-01-20T15:08:49.294987Z",
     "start_time": "2018-01-20T15:08:49.093790Z"
    }
   },
   "outputs": [
    {
     "name": "stdout",
     "output_type": "stream",
     "text": [
      "Input content : 돈만있으면 내가 이것보단 더잘만들겠따 ㅋ \n",
      "Label : 0 \n",
      "Prediction : 0\n"
     ]
    },
    {
     "data": {
      "text/html": [
       "<div>\n",
       "<style scoped>\n",
       "    .dataframe tbody tr th:only-of-type {\n",
       "        vertical-align: middle;\n",
       "    }\n",
       "\n",
       "    .dataframe tbody tr th {\n",
       "        vertical-align: top;\n",
       "    }\n",
       "\n",
       "    .dataframe thead th {\n",
       "        text-align: right;\n",
       "    }\n",
       "</style>\n",
       "<table border=\"1\" class=\"dataframe\">\n",
       "  <thead>\n",
       "    <tr style=\"text-align: right;\">\n",
       "      <th></th>\n",
       "      <th>most similar documents</th>\n",
       "      <th>label</th>\n",
       "      <th>similarity score</th>\n",
       "    </tr>\n",
       "  </thead>\n",
       "  <tbody>\n",
       "    <tr>\n",
       "      <th>1838</th>\n",
       "      <td>이것두 돈들여가믄서 만들었남</td>\n",
       "      <td>0</td>\n",
       "      <td>0.767419</td>\n",
       "    </tr>\n",
       "    <tr>\n",
       "      <th>12509</th>\n",
       "      <td>내가 영화를 만들어도 이것보단 잘만들것다</td>\n",
       "      <td>0</td>\n",
       "      <td>0.749604</td>\n",
       "    </tr>\n",
       "    <tr>\n",
       "      <th>37389</th>\n",
       "      <td>나 지급이것보고있다 9876543210</td>\n",
       "      <td>1</td>\n",
       "      <td>0.734522</td>\n",
       "    </tr>\n",
       "    <tr>\n",
       "      <th>112673</th>\n",
       "      <td>내가만들어도 이거보다잘만들겟슴</td>\n",
       "      <td>0</td>\n",
       "      <td>0.728756</td>\n",
       "    </tr>\n",
       "    <tr>\n",
       "      <th>133643</th>\n",
       "      <td>내가만들어도이거보단.잘만들듯.</td>\n",
       "      <td>0</td>\n",
       "      <td>0.723171</td>\n",
       "    </tr>\n",
       "  </tbody>\n",
       "</table>\n",
       "</div>"
      ],
      "text/plain": [
       "        most similar documents  label  similarity score\n",
       "1838           이것두 돈들여가믄서 만들었남      0          0.767419\n",
       "12509   내가 영화를 만들어도 이것보단 잘만들것다      0          0.749604\n",
       "37389    나 지급이것보고있다 9876543210      1          0.734522\n",
       "112673        내가만들어도 이거보다잘만들겟슴      0          0.728756\n",
       "133643        내가만들어도이거보단.잘만들듯.      0          0.723171"
      ]
     },
     "execution_count": 31,
     "metadata": {},
     "output_type": "execute_result"
    }
   ],
   "source": [
    "# 단일문서 결과 예시\n",
    "pred_result_ex, _ = get_pred_result(test_docs.iloc[50], train_docs, verbose=True)\n",
    "pred_result_ex"
   ]
  },
  {
   "cell_type": "code",
   "execution_count": 32,
   "metadata": {
    "ExecuteTime": {
     "end_time": "2018-01-20T15:11:36.776467Z",
     "start_time": "2018-01-20T15:08:50.790805Z"
    },
    "scrolled": false
   },
   "outputs": [
    {
     "name": "stdout",
     "output_type": "stream",
     "text": [
      "Accuracy : 77.5%\n"
     ]
    }
   ],
   "source": [
    "# 테스트셋 sample_n개 문서에 대한 긍부정 예측 정확도 측정\n",
    "count = 0\n",
    "sample_n = 1000\n",
    "test_array = test_docs.sample(sample_n).values\n",
    "\n",
    "for i in range(sample_n):\n",
    "    doc = test_array[i]\n",
    "    label = doc[2]\n",
    "    try:\n",
    "        pred = get_pred_result(doc, train_docs, topn=5)\n",
    "    except ValueError:\n",
    "        print(doc)\n",
    "    if label+pred != 1:\n",
    "        count += 1\n",
    "        \n",
    "print('Accuracy : {}%'.format(count/sample_n * 100))"
   ]
  },
  {
   "cell_type": "markdown",
   "metadata": {},
   "source": [
    "# 발생할 수 있는 문제점 및 원인"
   ]
  },
  {
   "cell_type": "markdown",
   "metadata": {},
   "source": [
    "## 새로운 유형의 단어로 인해 발생하는 오류\n",
    "- 원인\n",
    "  - Unseen document내에 학습단계에서 정의된 말뭉치에 없는 새로운 단어는 모두 missing value\n",
    "  - 중요한 단어가 학습모델 말뭉치에 없어 missing value로 처리될 경우 정확도에 부정적 영향\n",
    "  - missing value로만 이루어진 문서가 입력될 경우 오류발생\n",
    "\n",
    "\n",
    "- 대안예시\n",
    "  - 새로운 단어에 대해 model.build_vocab('새로운 문서들', update=True)로 벡터값 부여\n",
    "  <br/> (이미 존재하는 단어들의 벡터값은 업데이트 되지 않음.)"
   ]
  },
  {
   "cell_type": "markdown",
   "metadata": {},
   "source": [
    "## Inference 시행 때마다 일정하지 않은 유사도 결과값 (Non-deterministic)\n",
    "- 원인\n",
    "  - 학습단계에서 sub-sampling이나 negative sampling이 적용될 경우 유사도 점수가 inference마다 다르게 출력\n",
    "  - sub-sampling 및 negative sampling 확률적으로 단어를 학습에서 제외 또는 선택하는데, 이 무작위성이 모델링이나 inference마다 다른 결과가 나오는 원인\n",
    "  \n",
    "  \n",
    "- 대안예시\n",
    "  - sub-sampling 및 negative sampling 사용 지양 (현실적으로 어려움.)\n",
    "  - epochs를 증가시키거나 여러 모델을 ensemble하여 변동 최소화"
   ]
  },
  {
   "cell_type": "code",
   "execution_count": 27,
   "metadata": {
    "ExecuteTime": {
     "end_time": "2018-01-20T15:07:59.264647Z",
     "start_time": "2018-01-20T15:07:59.104497Z"
    },
    "scrolled": true
   },
   "outputs": [
    {
     "name": "stdout",
     "output_type": "stream",
     "text": [
      "Input content : 돈만있으면 내가 이것보단 더잘만들겠따 ㅋ \n",
      "Label : 0 \n",
      "Prediction : 0\n"
     ]
    },
    {
     "data": {
      "text/html": [
       "<div>\n",
       "<style scoped>\n",
       "    .dataframe tbody tr th:only-of-type {\n",
       "        vertical-align: middle;\n",
       "    }\n",
       "\n",
       "    .dataframe tbody tr th {\n",
       "        vertical-align: top;\n",
       "    }\n",
       "\n",
       "    .dataframe thead th {\n",
       "        text-align: right;\n",
       "    }\n",
       "</style>\n",
       "<table border=\"1\" class=\"dataframe\">\n",
       "  <thead>\n",
       "    <tr style=\"text-align: right;\">\n",
       "      <th></th>\n",
       "      <th>most similar documents</th>\n",
       "      <th>label</th>\n",
       "      <th>similarity score</th>\n",
       "    </tr>\n",
       "  </thead>\n",
       "  <tbody>\n",
       "    <tr>\n",
       "      <th>12509</th>\n",
       "      <td>내가 영화를 만들어도 이것보단 잘만들것다</td>\n",
       "      <td>0</td>\n",
       "      <td>0.787464</td>\n",
       "    </tr>\n",
       "    <tr>\n",
       "      <th>112673</th>\n",
       "      <td>내가만들어도 이거보다잘만들겟슴</td>\n",
       "      <td>0</td>\n",
       "      <td>0.775204</td>\n",
       "    </tr>\n",
       "    <tr>\n",
       "      <th>123218</th>\n",
       "      <td>영화 잘~ 만들었따-_-a</td>\n",
       "      <td>0</td>\n",
       "      <td>0.763742</td>\n",
       "    </tr>\n",
       "    <tr>\n",
       "      <th>126629</th>\n",
       "      <td>잘만들었어요.</td>\n",
       "      <td>1</td>\n",
       "      <td>0.752259</td>\n",
       "    </tr>\n",
       "    <tr>\n",
       "      <th>133643</th>\n",
       "      <td>내가만들어도이거보단.잘만들듯.</td>\n",
       "      <td>0</td>\n",
       "      <td>0.747282</td>\n",
       "    </tr>\n",
       "  </tbody>\n",
       "</table>\n",
       "</div>"
      ],
      "text/plain": [
       "        most similar documents  label  similarity score\n",
       "12509   내가 영화를 만들어도 이것보단 잘만들것다      0          0.787464\n",
       "112673        내가만들어도 이거보다잘만들겟슴      0          0.775204\n",
       "123218          영화 잘~ 만들었따-_-a      0          0.763742\n",
       "126629                 잘만들었어요.      1          0.752259\n",
       "133643        내가만들어도이거보단.잘만들듯.      0          0.747282"
      ]
     },
     "execution_count": 27,
     "metadata": {},
     "output_type": "execute_result"
    }
   ],
   "source": [
    "pred_result_ex1, _ = get_pred_result(test_docs.iloc[50], train_docs, verbose=True)\n",
    "pred_result_ex1"
   ]
  },
  {
   "cell_type": "code",
   "execution_count": 19,
   "metadata": {
    "ExecuteTime": {
     "end_time": "2018-01-20T15:04:04.153073Z",
     "start_time": "2018-01-20T15:04:03.983364Z"
    }
   },
   "outputs": [
    {
     "name": "stdout",
     "output_type": "stream",
     "text": [
      "Input content : 돈만있으면 내가 이것보단 더잘만들겠따 ㅋ \n",
      "Label : 0 \n",
      "Prediction : 0\n"
     ]
    },
    {
     "data": {
      "text/html": [
       "<div>\n",
       "<style scoped>\n",
       "    .dataframe tbody tr th:only-of-type {\n",
       "        vertical-align: middle;\n",
       "    }\n",
       "\n",
       "    .dataframe tbody tr th {\n",
       "        vertical-align: top;\n",
       "    }\n",
       "\n",
       "    .dataframe thead th {\n",
       "        text-align: right;\n",
       "    }\n",
       "</style>\n",
       "<table border=\"1\" class=\"dataframe\">\n",
       "  <thead>\n",
       "    <tr style=\"text-align: right;\">\n",
       "      <th></th>\n",
       "      <th>most similar documents</th>\n",
       "      <th>label</th>\n",
       "      <th>similarity score</th>\n",
       "    </tr>\n",
       "  </thead>\n",
       "  <tbody>\n",
       "    <tr>\n",
       "      <th>11414</th>\n",
       "      <td>이것도 영화라고 만들었는지</td>\n",
       "      <td>0</td>\n",
       "      <td>0.779185</td>\n",
       "    </tr>\n",
       "    <tr>\n",
       "      <th>12509</th>\n",
       "      <td>내가 영화를 만들어도 이것보단 잘만들것다</td>\n",
       "      <td>0</td>\n",
       "      <td>0.769762</td>\n",
       "    </tr>\n",
       "    <tr>\n",
       "      <th>29786</th>\n",
       "      <td>이런걸 영화라고 만들다니</td>\n",
       "      <td>0</td>\n",
       "      <td>0.760021</td>\n",
       "    </tr>\n",
       "    <tr>\n",
       "      <th>95340</th>\n",
       "      <td>이것도 영화라고 만들었나?? 나참</td>\n",
       "      <td>0</td>\n",
       "      <td>0.756411</td>\n",
       "    </tr>\n",
       "    <tr>\n",
       "      <th>103315</th>\n",
       "      <td>.. 이런걸 영화라고 만들었나</td>\n",
       "      <td>0</td>\n",
       "      <td>0.755999</td>\n",
       "    </tr>\n",
       "  </tbody>\n",
       "</table>\n",
       "</div>"
      ],
      "text/plain": [
       "        most similar documents  label  similarity score\n",
       "11414           이것도 영화라고 만들었는지      0          0.779185\n",
       "12509   내가 영화를 만들어도 이것보단 잘만들것다      0          0.769762\n",
       "29786            이런걸 영화라고 만들다니      0          0.760021\n",
       "95340       이것도 영화라고 만들었나?? 나참      0          0.756411\n",
       "103315        .. 이런걸 영화라고 만들었나      0          0.755999"
      ]
     },
     "execution_count": 19,
     "metadata": {},
     "output_type": "execute_result"
    }
   ],
   "source": [
    "pred_result_ex2, _ = get_pred_result(test_docs.iloc[50], train_docs, verbose=True)\n",
    "pred_result_ex2"
   ]
  }
 ],
 "metadata": {
  "hide_input": false,
  "kernelspec": {
   "display_name": "Python 3",
   "language": "python",
   "name": "python3"
  },
  "language_info": {
   "codemirror_mode": {
    "name": "ipython",
    "version": 3
   },
   "file_extension": ".py",
   "mimetype": "text/x-python",
   "name": "python",
   "nbconvert_exporter": "python",
   "pygments_lexer": "ipython3",
   "version": "3.6.4"
  },
  "toc": {
   "nav_menu": {},
   "number_sections": true,
   "sideBar": true,
   "skip_h1_title": false,
   "toc_cell": true,
   "toc_position": {},
   "toc_section_display": "block",
   "toc_window_display": false
  },
  "varInspector": {
   "cols": {
    "lenName": 16,
    "lenType": 16,
    "lenVar": 40
   },
   "kernels_config": {
    "python": {
     "delete_cmd_postfix": "",
     "delete_cmd_prefix": "del ",
     "library": "var_list.py",
     "varRefreshCmd": "print(var_dic_list())"
    },
    "r": {
     "delete_cmd_postfix": ") ",
     "delete_cmd_prefix": "rm(",
     "library": "var_list.r",
     "varRefreshCmd": "cat(var_dic_list()) "
    }
   },
   "types_to_exclude": [
    "module",
    "function",
    "builtin_function_or_method",
    "instance",
    "_Feature"
   ],
   "window_display": false
  }
 },
 "nbformat": 4,
 "nbformat_minor": 2
}
